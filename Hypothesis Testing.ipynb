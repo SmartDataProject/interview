{
 "cells": [
  {
   "cell_type": "markdown",
   "metadata": {},
   "source": [
    "4. What do the terms Hypothesis testing, P-value, coefficient, R-Squared value mean?\n",
    "   \n",
    "   - Hypothesis testing: based on probability, a method of making decisions about population using a sample data \n",
    "   - process:\n",
    "     1) define study question and choose test: what variables will be used to test the question?\n",
    "     2) set null and alternative hypothesis\n"
   ]
  }
 ],
 "metadata": {
  "kernelspec": {
   "display_name": "Python 3",
   "language": "python",
   "name": "python3"
  },
  "language_info": {
   "codemirror_mode": {
    "name": "ipython",
    "version": 3
   },
   "file_extension": ".py",
   "mimetype": "text/x-python",
   "name": "python",
   "nbconvert_exporter": "python",
   "pygments_lexer": "ipython3",
   "version": "3.6.1"
  }
 },
 "nbformat": 4,
 "nbformat_minor": 2
}
